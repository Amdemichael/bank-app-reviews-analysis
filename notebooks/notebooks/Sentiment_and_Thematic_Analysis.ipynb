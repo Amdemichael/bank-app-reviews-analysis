{
 "cells": [
  {
   "cell_type": "markdown",
   "id": "6b1a7613",
   "metadata": {},
   "source": [
    "# Ethiopian Bank Reviews Analysis"
   ]
  },
  {
   "cell_type": "code",
   "execution_count": null,
   "id": "4bc7b796",
   "metadata": {},
   "outputs": [],
   "source": [
    "print('Hello from saved notebook!')"
   ]
  }
 ],
 "metadata": {},
 "nbformat": 4,
 "nbformat_minor": 5
}
