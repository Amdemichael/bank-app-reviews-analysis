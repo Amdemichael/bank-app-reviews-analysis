{
 "cells": [
  {
   "cell_type": "code",
   "execution_count": 5,
   "id": "5ad49fae",
   "metadata": {},
   "outputs": [],
   "source": [
    "import sys\n",
    "import os\n",
    "sys.path.append(os.path.abspath('../'))"
   ]
  },
  {
   "cell_type": "code",
   "execution_count": 6,
   "id": "1f9202a7",
   "metadata": {},
   "outputs": [
    {
     "name": "stdout",
     "output_type": "stream",
     "text": [
      "✅ Inserted or skipped: Commercial Bank of Ethiopia\n",
      "✅ Inserted or skipped: Bank of Abyssinia\n",
      "✅ Inserted or skipped: Dashen Bank\n"
     ]
    }
   ],
   "source": [
    "!python ../src/database_integration/insert_banks.py\n"
   ]
  },
  {
   "cell_type": "code",
   "execution_count": 7,
   "id": "e626d225",
   "metadata": {},
   "outputs": [
    {
     "name": "stderr",
     "output_type": "stream",
     "text": [
      "Traceback (most recent call last):\n",
      "  File \"d:\\Projects\\Python\\bank-app-reviews-analysis\\src\\database_integration\\load_reviews_to_db.py\", line 6, in <module>\n",
      "    df = pd.read_csv(\"all_banks_combined.csv\")\n",
      "  File \"d:\\Projects\\Python\\bank-app-reviews-analysis\\.venv\\lib\\site-packages\\pandas\\io\\parsers\\readers.py\", line 1026, in read_csv\n",
      "    return _read(filepath_or_buffer, kwds)\n",
      "  File \"d:\\Projects\\Python\\bank-app-reviews-analysis\\.venv\\lib\\site-packages\\pandas\\io\\parsers\\readers.py\", line 620, in _read\n",
      "    parser = TextFileReader(filepath_or_buffer, **kwds)\n",
      "  File \"d:\\Projects\\Python\\bank-app-reviews-analysis\\.venv\\lib\\site-packages\\pandas\\io\\parsers\\readers.py\", line 1620, in __init__\n",
      "    self._engine = self._make_engine(f, self.engine)\n",
      "  File \"d:\\Projects\\Python\\bank-app-reviews-analysis\\.venv\\lib\\site-packages\\pandas\\io\\parsers\\readers.py\", line 1880, in _make_engine\n",
      "    self.handles = get_handle(\n",
      "  File \"d:\\Projects\\Python\\bank-app-reviews-analysis\\.venv\\lib\\site-packages\\pandas\\io\\common.py\", line 873, in get_handle\n",
      "    handle = open(\n",
      "FileNotFoundError: [Errno 2] No such file or directory: 'all_banks_combined.csv'\n"
     ]
    }
   ],
   "source": [
    "!python ../src/database_integration/load_reviews_to_db.py"
   ]
  }
 ],
 "metadata": {
  "kernelspec": {
   "display_name": ".venv",
   "language": "python",
   "name": "python3"
  },
  "language_info": {
   "codemirror_mode": {
    "name": "ipython",
    "version": 3
   },
   "file_extension": ".py",
   "mimetype": "text/x-python",
   "name": "python",
   "nbconvert_exporter": "python",
   "pygments_lexer": "ipython3",
   "version": "3.10.11"
  }
 },
 "nbformat": 4,
 "nbformat_minor": 5
}
