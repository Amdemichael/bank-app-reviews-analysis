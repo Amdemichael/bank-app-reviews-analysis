{
 "cells": [
  {
   "cell_type": "markdown",
   "id": "f476b337",
   "metadata": {},
   "source": [
    "# # Ethiopian Bank Reviews - Task 1: Data Collection\n",
    "# \n",
    "# **Objective**: Scrape and preprocess Google Play Store reviews for 3 Ethiopian banks\n",
    "# \n",
    "# Banks:\n",
    "# - Commercial Bank of Ethiopia (CBE)\n",
    "# - Bank of Abyssinia (BOA)\n",
    "# - Dashen Bank"
   ]
  },
  {
   "cell_type": "code",
   "execution_count": 49,
   "id": "975ed036",
   "metadata": {},
   "outputs": [],
   "source": [
    "# Import required modules\n",
    "import sys\n",
    "import os\n",
    "import pandas as pd\n",
    "from pathlib import Path\n",
    "import matplotlib.pyplot as plt\n",
    "import logging  # Ensure this import is present\n",
    "\n",
    "# Ensure the parent directory of 'src' is in the Python path\n",
    "sys.path.append(os.path.abspath('../'))\n",
    "\n",
    "# Import from your modules\n",
    "from src.data_collection.scraper import BankReviewScraper\n",
    "from src.data_collection.preprocessor import ReviewPreprocessor\n",
    "from config.settings import BANKS"
   ]
  },
  {
   "cell_type": "code",
   "execution_count": 50,
   "id": "d143d69c",
   "metadata": {},
   "outputs": [],
   "source": [
    "# Setup logging\n",
    "logging.basicConfig(level=logging.INFO)\n",
    "logger = logging.getLogger(__name__)"
   ]
  },
  {
   "cell_type": "code",
   "execution_count": 51,
   "id": "93c012f8",
   "metadata": {},
   "outputs": [],
   "source": [
    "# Initialize components\n",
    "scraper = BankReviewScraper()\n",
    "preprocessor = ReviewPreprocessor()"
   ]
  },
  {
   "cell_type": "markdown",
   "id": "868531ba",
   "metadata": {},
   "source": [
    "### 1. Scrape Raw Reviews"
   ]
  },
  {
   "cell_type": "code",
   "execution_count": 52,
   "id": "c033606c",
   "metadata": {},
   "outputs": [
    {
     "name": "stderr",
     "output_type": "stream",
     "text": [
      "INFO:__main__:Scraping Commercial Bank of Ethiopia...\n",
      "Scraping Commercial Bank of Ethiopia: 100%|██████████| 400/400 [00:07<00:00, 56.10it/s]\n",
      "INFO:__main__:✅ Successfully scraped 400 reviews\n",
      "INFO:__main__:Scraping Bank of Abyssinia...\n",
      "Scraping Bank of Abyssinia: 100%|██████████| 400/400 [00:07<00:00, 50.62it/s]\n",
      "INFO:__main__:✅ Successfully scraped 400 reviews\n",
      "INFO:__main__:Scraping Dashen Bank...\n",
      "Scraping Dashen Bank: 100%|██████████| 400/400 [00:07<00:00, 51.83it/s]\n",
      "INFO:__main__:✅ Successfully scraped 400 reviews\n"
     ]
    }
   ],
   "source": [
    "# Scrape each bank's reviews\n",
    "raw_reviews = {}\n",
    "for bank_name, app_id in BANKS.items():\n",
    "    logger.info(f\"Scraping {bank_name}...\")\n",
    "    try:\n",
    "        reviews = scraper.scrape_bank(app_id, bank_name)\n",
    "        raw_reviews[bank_name] = reviews\n",
    "        logger.info(f\"✅ Successfully scraped {len(reviews)} reviews\")\n",
    "    except Exception as e:\n",
    "        logger.error(f\"❌ Failed to scrape {bank_name}: {str(e)}\")\n",
    "        continue"
   ]
  },
  {
   "cell_type": "code",
   "execution_count": 53,
   "id": "12060b15",
   "metadata": {},
   "outputs": [
    {
     "name": "stdout",
     "output_type": "stream",
     "text": [
      "\n",
      "Sample review structure from Commercial Bank of Ethiopia:\n",
      "{'reviewId': 'be2cb2ac-bbe0-4175-81c4-9f6c86afdaaa', 'userName': 'Aim4 Beyond', 'userImage': 'https://play-lh.googleusercontent.com/a/ACg8ocJ8haRPi_VW5lsN16hQDpUE8f3f24u6P2mvRwSw8wBpampb4g=mo', 'content': '\"Why don’t your ATMs support account-to-account transfers like other countries( Kenya, Nigeria , South africa)\"', 'score': 4, 'thumbsUpCount': 0, 'reviewCreatedVersion': None, 'at': datetime.datetime(2025, 6, 6, 9, 54, 11), 'replyContent': None, 'repliedAt': None}\n"
     ]
    }
   ],
   "source": [
    "# Preview raw data structure\n",
    "if raw_reviews:\n",
    "    sample_bank = list(raw_reviews.keys())[0]\n",
    "    print(f\"\\nSample review structure from {sample_bank}:\")\n",
    "    print(raw_reviews[sample_bank][0])"
   ]
  },
  {
   "cell_type": "code",
   "execution_count": 58,
   "id": "6f430205",
   "metadata": {},
   "outputs": [
    {
     "name": "stdout",
     "output_type": "stream",
     "text": [
      "Saved 400 reviews to data\\raw\\commercial_bank_of_ethiopia_raw.csv\n",
      "Saved 400 reviews to data\\raw\\bank_of_abyssinia_raw.csv\n",
      "Saved 400 reviews to data\\raw\\dashen_bank_raw.csv\n",
      "\n",
      "Saved combined data to data\\raw\\raw_all_banks_combined.csv\n"
     ]
    }
   ],
   "source": [
    "output_dir = Path(\"data/raw\")\n",
    "output_dir.mkdir(parents=True, exist_ok=True)\n",
    "\n",
    "if raw_reviews and isinstance(raw_reviews, dict):\n",
    "    # Save individual bank files\n",
    "    for bank_name, reviews in raw_reviews.items():\n",
    "        if reviews:  # Check if the list of reviews is not empty\n",
    "            df = pd.DataFrame(reviews)  # Convert list of dicts to DataFrame\n",
    "            filename = output_dir / f\"{bank_name.lower().replace(' ', '_')}_raw.csv\"\n",
    "            df.to_csv(filename, index=False)\n",
    "            print(f\"Saved {len(df)} reviews to {filename}\")\n",
    "        else:\n",
    "            print(f\"Warning: No reviews found for {bank_name}.\")\n",
    "\n",
    "    # Save combined file if combined_df is defined\n",
    "    if 'raw_combined_df' in locals():\n",
    "        raw_combined_path = output_dir / \"raw_all_banks_combined.csv\"\n",
    "        raw_combined_df.to_csv(raw_combined_path, index=False)\n",
    "        print(f\"\\nSaved combined data to {raw_combined_path}\")\n",
    "    else:\n",
    "        print(\"Warning: combined_df is not defined.\")\n",
    "else:\n",
    "    print(\"No raw reviews to save or the structure is incorrect.\")"
   ]
  },
  {
   "cell_type": "code",
   "execution_count": 61,
   "id": "3ea844d2",
   "metadata": {},
   "outputs": [
    {
     "name": "stdout",
     "output_type": "stream",
     "text": [
      "\n",
      "Combined dataset preview:\n"
     ]
    },
    {
     "data": {
      "text/html": [
       "<div>\n",
       "<style scoped>\n",
       "    .dataframe tbody tr th:only-of-type {\n",
       "        vertical-align: middle;\n",
       "    }\n",
       "\n",
       "    .dataframe tbody tr th {\n",
       "        vertical-align: top;\n",
       "    }\n",
       "\n",
       "    .dataframe thead th {\n",
       "        text-align: right;\n",
       "    }\n",
       "</style>\n",
       "<table border=\"1\" class=\"dataframe\">\n",
       "  <thead>\n",
       "    <tr style=\"text-align: right;\">\n",
       "      <th></th>\n",
       "      <th>review_id</th>\n",
       "      <th>review</th>\n",
       "      <th>rating</th>\n",
       "      <th>date</th>\n",
       "      <th>bank</th>\n",
       "      <th>source</th>\n",
       "    </tr>\n",
       "  </thead>\n",
       "  <tbody>\n",
       "    <tr>\n",
       "      <th>0</th>\n",
       "      <td>c1698da217f8f1f69ec3f269f2adaed3</td>\n",
       "      <td>\"Why don’t your ATMs support account-to-accoun...</td>\n",
       "      <td>4</td>\n",
       "      <td>2025-06-06</td>\n",
       "      <td>Commercial Bank of Ethiopia</td>\n",
       "      <td>Google Play</td>\n",
       "    </tr>\n",
       "    <tr>\n",
       "      <th>1</th>\n",
       "      <td>07bec0f87319f8e9e6541da2883b2916</td>\n",
       "      <td>what is this app problem???</td>\n",
       "      <td>1</td>\n",
       "      <td>2025-06-05</td>\n",
       "      <td>Commercial Bank of Ethiopia</td>\n",
       "      <td>Google Play</td>\n",
       "    </tr>\n",
       "    <tr>\n",
       "      <th>2</th>\n",
       "      <td>77db45e9bb9e610a42cd16c8560ce6fd</td>\n",
       "      <td>the app is proactive and a good connections.</td>\n",
       "      <td>5</td>\n",
       "      <td>2025-06-05</td>\n",
       "      <td>Commercial Bank of Ethiopia</td>\n",
       "      <td>Google Play</td>\n",
       "    </tr>\n",
       "  </tbody>\n",
       "</table>\n",
       "</div>"
      ],
      "text/plain": [
       "                          review_id  \\\n",
       "0  c1698da217f8f1f69ec3f269f2adaed3   \n",
       "1  07bec0f87319f8e9e6541da2883b2916   \n",
       "2  77db45e9bb9e610a42cd16c8560ce6fd   \n",
       "\n",
       "                                              review  rating        date  \\\n",
       "0  \"Why don’t your ATMs support account-to-accoun...       4  2025-06-06   \n",
       "1                        what is this app problem???       1  2025-06-05   \n",
       "2       the app is proactive and a good connections.       5  2025-06-05   \n",
       "\n",
       "                          bank       source  \n",
       "0  Commercial Bank of Ethiopia  Google Play  \n",
       "1  Commercial Bank of Ethiopia  Google Play  \n",
       "2  Commercial Bank of Ethiopia  Google Play  "
      ]
     },
     "metadata": {},
     "output_type": "display_data"
    },
    {
     "name": "stdout",
     "output_type": "stream",
     "text": [
      "\n",
      "📊 Data Summary:\n",
      "Total reviews: 815\n",
      "\n",
      "Reviews per bank:\n",
      "bank\n",
      "Dashen Bank                    310\n",
      "Bank of Abyssinia              259\n",
      "Commercial Bank of Ethiopia    246\n",
      "Name: count, dtype: int64\n"
     ]
    }
   ],
   "source": [
    "# Combine all bank data before preprocess\n",
    "if raw_reviews:\n",
    "    raw_combined_df = pd.concat(clean_dfs, ignore_index=True)\n",
    "    print(\"\\nCombined dataset preview:\")\n",
    "    display(combined_df.head(3))\n",
    "    \n",
    "    # Basic stats\n",
    "    print(\"\\n📊 Data Summary:\")\n",
    "    print(f\"Total reviews: {len(combined_df)}\")\n",
    "    print(\"\\nReviews per bank:\")\n",
    "    print(raw_combined_df['bank'].value_counts())"
   ]
  },
  {
   "cell_type": "markdown",
   "id": "65952226",
   "metadata": {},
   "source": [
    "### 2. Clean and Preprocess Data"
   ]
  },
  {
   "cell_type": "code",
   "execution_count": 56,
   "id": "7045468e",
   "metadata": {},
   "outputs": [
    {
     "name": "stderr",
     "output_type": "stream",
     "text": [
      "INFO:__main__:✅ Processed 246 Commercial Bank of Ethiopia reviews\n",
      "INFO:__main__:✅ Processed 259 Bank of Abyssinia reviews\n",
      "INFO:__main__:✅ Processed 310 Dashen Bank reviews\n"
     ]
    }
   ],
   "source": [
    "# Process each bank's data\n",
    "clean_dfs = []\n",
    "for bank_name, reviews in raw_reviews.items():\n",
    "    try:\n",
    "        clean_df = preprocessor.clean_data(reviews, bank_name)\n",
    "        clean_dfs.append(clean_df)\n",
    "        logger.info(f\"✅ Processed {len(clean_df)} {bank_name} reviews\")\n",
    "    except Exception as e:\n",
    "        logger.error(f\"❌ Failed to process {bank_name}: {str(e)}\")\n",
    "        continue\n"
   ]
  },
  {
   "cell_type": "code",
   "execution_count": 62,
   "id": "46708324",
   "metadata": {},
   "outputs": [
    {
     "name": "stdout",
     "output_type": "stream",
     "text": [
      "\n",
      "Combined raw dataset preview:\n"
     ]
    },
    {
     "data": {
      "text/html": [
       "<div>\n",
       "<style scoped>\n",
       "    .dataframe tbody tr th:only-of-type {\n",
       "        vertical-align: middle;\n",
       "    }\n",
       "\n",
       "    .dataframe tbody tr th {\n",
       "        vertical-align: top;\n",
       "    }\n",
       "\n",
       "    .dataframe thead th {\n",
       "        text-align: right;\n",
       "    }\n",
       "</style>\n",
       "<table border=\"1\" class=\"dataframe\">\n",
       "  <thead>\n",
       "    <tr style=\"text-align: right;\">\n",
       "      <th></th>\n",
       "      <th>reviewId</th>\n",
       "      <th>userName</th>\n",
       "      <th>userImage</th>\n",
       "      <th>content</th>\n",
       "      <th>score</th>\n",
       "      <th>thumbsUpCount</th>\n",
       "      <th>reviewCreatedVersion</th>\n",
       "      <th>at</th>\n",
       "      <th>replyContent</th>\n",
       "      <th>repliedAt</th>\n",
       "      <th>bank</th>\n",
       "    </tr>\n",
       "  </thead>\n",
       "  <tbody>\n",
       "    <tr>\n",
       "      <th>0</th>\n",
       "      <td>be2cb2ac-bbe0-4175-81c4-9f6c86afdaaa</td>\n",
       "      <td>Aim4 Beyond</td>\n",
       "      <td>https://play-lh.googleusercontent.com/a/ACg8oc...</td>\n",
       "      <td>\"Why don’t your ATMs support account-to-accoun...</td>\n",
       "      <td>4</td>\n",
       "      <td>0</td>\n",
       "      <td>None</td>\n",
       "      <td>2025-06-06 09:54:11</td>\n",
       "      <td>None</td>\n",
       "      <td>None</td>\n",
       "      <td>Commercial Bank of Ethiopia</td>\n",
       "    </tr>\n",
       "    <tr>\n",
       "      <th>1</th>\n",
       "      <td>8efd71e9-59cd-41ce-8c5c-12052dee9ad0</td>\n",
       "      <td>zakir man</td>\n",
       "      <td>https://play-lh.googleusercontent.com/a/ACg8oc...</td>\n",
       "      <td>what is this app problem???</td>\n",
       "      <td>1</td>\n",
       "      <td>0</td>\n",
       "      <td>5.1.0</td>\n",
       "      <td>2025-06-05 22:16:56</td>\n",
       "      <td>None</td>\n",
       "      <td>None</td>\n",
       "      <td>Commercial Bank of Ethiopia</td>\n",
       "    </tr>\n",
       "    <tr>\n",
       "      <th>2</th>\n",
       "      <td>b12d0383-9b27-4e49-a94d-277a43b15800</td>\n",
       "      <td>Yesuf Ahmed</td>\n",
       "      <td>https://play-lh.googleusercontent.com/a/ACg8oc...</td>\n",
       "      <td>the app is proactive and a good connections.</td>\n",
       "      <td>5</td>\n",
       "      <td>0</td>\n",
       "      <td>5.1.0</td>\n",
       "      <td>2025-06-05 15:55:10</td>\n",
       "      <td>None</td>\n",
       "      <td>None</td>\n",
       "      <td>Commercial Bank of Ethiopia</td>\n",
       "    </tr>\n",
       "  </tbody>\n",
       "</table>\n",
       "</div>"
      ],
      "text/plain": [
       "                               reviewId     userName  \\\n",
       "0  be2cb2ac-bbe0-4175-81c4-9f6c86afdaaa  Aim4 Beyond   \n",
       "1  8efd71e9-59cd-41ce-8c5c-12052dee9ad0    zakir man   \n",
       "2  b12d0383-9b27-4e49-a94d-277a43b15800  Yesuf Ahmed   \n",
       "\n",
       "                                           userImage  \\\n",
       "0  https://play-lh.googleusercontent.com/a/ACg8oc...   \n",
       "1  https://play-lh.googleusercontent.com/a/ACg8oc...   \n",
       "2  https://play-lh.googleusercontent.com/a/ACg8oc...   \n",
       "\n",
       "                                             content  score  thumbsUpCount  \\\n",
       "0  \"Why don’t your ATMs support account-to-accoun...      4              0   \n",
       "1                        what is this app problem???      1              0   \n",
       "2       the app is proactive and a good connections.      5              0   \n",
       "\n",
       "  reviewCreatedVersion                  at replyContent repliedAt  \\\n",
       "0                 None 2025-06-06 09:54:11         None      None   \n",
       "1                5.1.0 2025-06-05 22:16:56         None      None   \n",
       "2                5.1.0 2025-06-05 15:55:10         None      None   \n",
       "\n",
       "                          bank  \n",
       "0  Commercial Bank of Ethiopia  \n",
       "1  Commercial Bank of Ethiopia  \n",
       "2  Commercial Bank of Ethiopia  "
      ]
     },
     "metadata": {},
     "output_type": "display_data"
    },
    {
     "name": "stdout",
     "output_type": "stream",
     "text": [
      "\n",
      "📊 Raw Data Summary:\n",
      "Total reviews: 1200\n",
      "\n",
      "Reviews per bank:\n",
      "bank\n",
      "Commercial Bank of Ethiopia    400\n",
      "Bank of Abyssinia              400\n",
      "Dashen Bank                    400\n",
      "Name: count, dtype: int64\n"
     ]
    }
   ],
   "source": [
    "# Combine all bank data from raw reviews\n",
    "if raw_reviews and isinstance(raw_reviews, dict):\n",
    "    combined_raw_reviews = []\n",
    "\n",
    "    for bank_name, reviews in raw_reviews.items():\n",
    "        if reviews:  # Ensure there are reviews for the bank\n",
    "            df = pd.DataFrame(reviews)\n",
    "            df['bank'] = bank_name  # Add a column for the bank name\n",
    "            combined_raw_reviews.append(df)\n",
    "    \n",
    "    if combined_raw_reviews:\n",
    "        combined_raw_df = pd.concat(combined_raw_reviews, ignore_index=True)\n",
    "        print(\"\\nCombined raw dataset preview:\")\n",
    "        display(combined_raw_df.head(3))\n",
    "        \n",
    "        # Basic stats\n",
    "        print(\"\\n📊 Raw Data Summary:\")\n",
    "        print(f\"Total reviews: {len(combined_raw_df)}\")\n",
    "        print(\"\\nReviews per bank:\")\n",
    "        print(combined_raw_df['bank'].value_counts())\n",
    "    else:\n",
    "        print(\"Warning: No raw reviews to combine.\")\n",
    "else:\n",
    "    print(\"No raw reviews or structure is incorrect.\")"
   ]
  },
  {
   "cell_type": "markdown",
   "id": "125a274f",
   "metadata": {},
   "source": [
    "### 3. Save Processed Data"
   ]
  },
  {
   "cell_type": "code",
   "execution_count": 63,
   "id": "efbb3467",
   "metadata": {},
   "outputs": [
    {
     "name": "stdout",
     "output_type": "stream",
     "text": [
      "Saved 246 reviews to data\\processed\\commercial_bank_of_ethiopia_clean.csv\n",
      "Saved 259 reviews to data\\processed\\bank_of_abyssinia_clean.csv\n",
      "Saved 310 reviews to data\\processed\\dashen_bank_clean.csv\n",
      "\n",
      "Saved combined data to data\\processed\\all_banks_combined.csv\n"
     ]
    }
   ],
   "source": [
    "# Save to files\n",
    "output_dir = Path(\"data/processed\")\n",
    "output_dir.mkdir(parents=True, exist_ok=True)\n",
    "\n",
    "if clean_dfs:\n",
    "    # Save individual bank files\n",
    "    for df in clean_dfs:\n",
    "        bank_name = df['bank'].iloc[0]\n",
    "        filename = output_dir / f\"{bank_name.lower().replace(' ', '_')}_clean.csv\"\n",
    "        df.to_csv(filename, index=False)\n",
    "        print(f\"Saved {len(df)} reviews to {filename}\")\n",
    "    \n",
    "    # Save combined file\n",
    "    combined_path = output_dir / \"all_banks_combined.csv\"\n",
    "    combined_df.to_csv(combined_path, index=False)\n",
    "    print(f\"\\nSaved combined data to {combined_path}\")"
   ]
  },
  {
   "cell_type": "markdown",
   "id": "a93438a0",
   "metadata": {},
   "source": [
    "### 4. Preliminary Analysis"
   ]
  },
  {
   "cell_type": "code",
   "execution_count": 64,
   "id": "fbb98de4",
   "metadata": {},
   "outputs": [
    {
     "data": {
      "image/png": "[encoded data removed]",
      "text/plain": [
       "<Figure size 1000x500 with 1 Axes>"
      ]
     },
     "metadata": {},
     "output_type": "display_data"
    },
    {
     "name": "stderr",
     "output_type": "stream",
     "text": [
      "C:\\Users\\hp\\AppData\\Local\\Temp\\ipykernel_13352\\2596827804.py:18: FutureWarning: 'M' is deprecated and will be removed in a future version, please use 'ME' instead.\n",
      "  combined_df.set_index('date').resample('M')['review'].count().plot()\n"
     ]
    },
    {
     "data": {
      "image/png": "[encoded data removed]",
      "text/plain": [
       "<Figure size 1200x500 with 1 Axes>"
      ]
     },
     "metadata": {},
     "output_type": "display_data"
    }
   ],
   "source": [
    "if not clean_dfs:\n",
    "    raise ValueError(\"No data available for analysis\")\n",
    "\n",
    "# Rating distribution\n",
    "plt.figure(figsize=(10, 5))\n",
    "combined_df['rating'].value_counts().sort_index().plot(kind='bar', color='skyblue')\n",
    "plt.title('Rating Distribution Across All Banks')\n",
    "plt.xlabel('Star Rating')\n",
    "plt.ylabel('Number of Reviews')\n",
    "plt.xticks(rotation=0)\n",
    "plt.show()\n",
    "\n",
    "# %%\n",
    "# Reviews over time (if date column exists)\n",
    "if 'date' in combined_df.columns:\n",
    "    plt.figure(figsize=(12, 5))\n",
    "    combined_df['date'] = pd.to_datetime(combined_df['date'])\n",
    "    combined_df.set_index('date').resample('M')['review'].count().plot()\n",
    "    plt.title('Reviews Over Time')\n",
    "    plt.ylabel('Number of Reviews')\n",
    "    plt.show()"
   ]
  },
  {
   "cell_type": "code",
   "execution_count": null,
   "id": "11ce1f49",
   "metadata": {},
   "outputs": [],
   "source": []
  }
 ],
 "metadata": {
  "kernelspec": {
   "display_name": "Python 3",
   "language": "python",
   "name": "python3"
  },
  "language_info": {
   "codemirror_mode": {
    "name": "ipython",
    "version": 3
   },
   "file_extension": ".py",
   "mimetype": "text/x-python",
   "name": "python",
   "nbconvert_exporter": "python",
   "pygments_lexer": "ipython3",
   "version": "3.10.11"
  }
 },
 "nbformat": 4,
 "nbformat_minor": 5
}
