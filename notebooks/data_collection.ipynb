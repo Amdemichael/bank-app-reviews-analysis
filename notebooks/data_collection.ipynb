{
 "cells": [
  {
   "cell_type": "markdown",
   "id": "f476b337",
   "metadata": {},
   "source": [
    "# # Ethiopian Bank Reviews - Task 1: Data Collection\n",
    "# \n",
    "# **Objective**: Scrape and preprocess Google Play Store reviews for 3 Ethiopian banks\n",
    "# \n",
    "# Banks:\n",
    "# - Commercial Bank of Ethiopia (CBE)\n",
    "# - Bank of Abyssinia (BOA)\n",
    "# - Dashen Bank"
   ]
  },
  {
   "cell_type": "code",
   "execution_count": 5,
   "id": "975ed036",
   "metadata": {},
   "outputs": [],
   "source": [
    "# Import required modules\n",
    "import sys\n",
    "import os\n",
    "import pandas as pd\n",
    "from pathlib import Path\n",
    "import matplotlib.pyplot as plt\n",
    "import logging  # Ensure this import is present\n",
    "\n",
    "# Ensure the parent directory of 'src' is in the Python path\n",
    "sys.path.append(os.path.abspath('../'))\n",
    "\n",
    "# Import from your modules\n",
    "from src.data_collection.scraper import BankReviewScraper\n",
    "from src.data_collection.preprocessor import ReviewPreprocessor\n",
    "from config.settings import BANKS"
   ]
  },
  {
   "cell_type": "code",
   "execution_count": 6,
   "id": "d143d69c",
   "metadata": {},
   "outputs": [],
   "source": [
    "# Setup logging\n",
    "logging.basicConfig(level=logging.INFO)\n",
    "logger = logging.getLogger(__name__)"
   ]
  },
  {
   "cell_type": "code",
   "execution_count": 7,
   "id": "93c012f8",
   "metadata": {},
   "outputs": [],
   "source": [
    "# Initialize components\n",
    "scraper = BankReviewScraper()\n",
    "preprocessor = ReviewPreprocessor()"
   ]
  },
  {
   "cell_type": "markdown",
   "id": "868531ba",
   "metadata": {},
   "source": [
    "### 1. Scrape Raw Reviews"
   ]
  },
  {
   "cell_type": "code",
   "execution_count": 8,
   "id": "c033606c",
   "metadata": {},
   "outputs": [
    {
     "name": "stderr",
     "output_type": "stream",
     "text": [
      "INFO:__main__:Scraping Commercial Bank of Ethiopia...\n",
      "Scraping Commercial Bank of Ethiopia:  60%|██████    | 300/500 [00:11<00:07, 26.13it/s]\n",
      "INFO:__main__:✅ Successfully scraped 300 reviews\n",
      "INFO:__main__:Scraping Bank of Abyssinia...\n",
      "Scraping Bank of Abyssinia:  60%|██████    | 300/500 [00:08<00:05, 34.56it/s] \n",
      "INFO:__main__:✅ Successfully scraped 300 reviews\n",
      "INFO:__main__:Scraping Dashen Bank...\n",
      "Scraping Dashen Bank:  60%|██████    | 300/500 [00:09<00:06, 31.88it/s]\n",
      "INFO:__main__:✅ Successfully scraped 300 reviews\n"
     ]
    }
   ],
   "source": [
    "# Scrape each bank's reviews\n",
    "raw_reviews = {}\n",
    "for bank_name, app_id in BANKS.items():\n",
    "    logger.info(f\"Scraping {bank_name}...\")\n",
    "    try:\n",
    "        reviews = scraper.scrape_bank(app_id, bank_name)\n",
    "        raw_reviews[bank_name] = reviews\n",
    "        logger.info(f\"✅ Successfully scraped {len(reviews)} reviews\")\n",
    "    except Exception as e:\n",
    "        logger.error(f\"❌ Failed to scrape {bank_name}: {str(e)}\")\n",
    "        continue"
   ]
  },
  {
   "cell_type": "code",
   "execution_count": 9,
   "id": "12060b15",
   "metadata": {},
   "outputs": [
    {
     "name": "stdout",
     "output_type": "stream",
     "text": [
      "\n",
      "Sample review structure from Commercial Bank of Ethiopia:\n",
      "{'reviewId': 'b12d0383-9b27-4e49-a94d-277a43b15800', 'userName': 'Yesuf Ahmed', 'userImage': 'https://play-lh.googleusercontent.com/a/ACg8ocKGPQACprQ8i86KsvFIip9JVo_DJt7Cn1txAGLmBub8N7WzfVc=mo', 'content': 'the app is proactive and a good connections.', 'score': 5, 'thumbsUpCount': 0, 'reviewCreatedVersion': '5.1.0', 'at': datetime.datetime(2025, 6, 5, 15, 55, 10), 'replyContent': None, 'repliedAt': None, 'appVersion': '5.1.0'}\n"
     ]
    }
   ],
   "source": [
    "# Preview raw data structure\n",
    "if raw_reviews:\n",
    "    sample_bank = list(raw_reviews.keys())[0]\n",
    "    print(f\"\\nSample review structure from {sample_bank}:\")\n",
    "    print(raw_reviews[sample_bank][0])"
   ]
  },
  {
   "cell_type": "markdown",
   "id": "65952226",
   "metadata": {},
   "source": [
    "### 2. Clean and Preprocess Data"
   ]
  },
  {
   "cell_type": "code",
   "execution_count": 10,
   "id": "7045468e",
   "metadata": {},
   "outputs": [
    {
     "name": "stderr",
     "output_type": "stream",
     "text": [
      "INFO:__main__:✅ Processed 180 Commercial Bank of Ethiopia reviews\n",
      "INFO:__main__:✅ Processed 195 Bank of Abyssinia reviews\n",
      "INFO:__main__:✅ Processed 235 Dashen Bank reviews\n"
     ]
    }
   ],
   "source": [
    "# Process each bank's data\n",
    "clean_dfs = []\n",
    "for bank_name, reviews in raw_reviews.items():\n",
    "    try:\n",
    "        clean_df = preprocessor.clean_data(reviews, bank_name)\n",
    "        clean_dfs.append(clean_df)\n",
    "        logger.info(f\"✅ Processed {len(clean_df)} {bank_name} reviews\")\n",
    "    except Exception as e:\n",
    "        logger.error(f\"❌ Failed to process {bank_name}: {str(e)}\")\n",
    "        continue\n"
   ]
  },
  {
   "cell_type": "code",
   "execution_count": 12,
   "id": "46708324",
   "metadata": {},
   "outputs": [
    {
     "name": "stdout",
     "output_type": "stream",
     "text": [
      "\n",
      "Combined dataset preview:\n"
     ]
    },
    {
     "data": {
      "application/vnd.microsoft.datawrangler.viewer.v0+json": {
       "columns": [
        {
         "name": "index",
         "rawType": "int64",
         "type": "integer"
        },
        {
         "name": "review_id",
         "rawType": "object",
         "type": "string"
        },
        {
         "name": "review",
         "rawType": "object",
         "type": "string"
        },
        {
         "name": "rating",
         "rawType": "int32",
         "type": "integer"
        },
        {
         "name": "date",
         "rawType": "object",
         "type": "string"
        },
        {
         "name": "bank",
         "rawType": "object",
         "type": "string"
        },
        {
         "name": "source",
         "rawType": "object",
         "type": "string"
        }
       ],
       "ref": "d88396b8-4d98-45c9-8e15-25f79d251a79",
       "rows": [
        [
         "0",
         "77db45e9bb9e610a42cd16c8560ce6fd",
         "the app is proactive and a good connections.",
         "5",
         "2025-06-05",
         "Commercial Bank of Ethiopia",
         "Google Play"
        ],
        [
         "1",
         "2c15634273c8f9922f7a870ce877a8fc",
         "I cannot send to cbebirr app. through this app.",
         "3",
         "2025-06-05",
         "Commercial Bank of Ethiopia",
         "Google Play"
        ],
        [
         "2",
         "e8efe612c2b176fef3efdcf7955e2a9d",
         "not functional",
         "1",
         "2025-06-05",
         "Commercial Bank of Ethiopia",
         "Google Play"
        ]
       ],
       "shape": {
        "columns": 6,
        "rows": 3
       }
      },
      "text/html": [
       "<div>\n",
       "<style scoped>\n",
       "    .dataframe tbody tr th:only-of-type {\n",
       "        vertical-align: middle;\n",
       "    }\n",
       "\n",
       "    .dataframe tbody tr th {\n",
       "        vertical-align: top;\n",
       "    }\n",
       "\n",
       "    .dataframe thead th {\n",
       "        text-align: right;\n",
       "    }\n",
       "</style>\n",
       "<table border=\"1\" class=\"dataframe\">\n",
       "  <thead>\n",
       "    <tr style=\"text-align: right;\">\n",
       "      <th></th>\n",
       "      <th>review_id</th>\n",
       "      <th>review</th>\n",
       "      <th>rating</th>\n",
       "      <th>date</th>\n",
       "      <th>bank</th>\n",
       "      <th>source</th>\n",
       "    </tr>\n",
       "  </thead>\n",
       "  <tbody>\n",
       "    <tr>\n",
       "      <th>0</th>\n",
       "      <td>77db45e9bb9e610a42cd16c8560ce6fd</td>\n",
       "      <td>the app is proactive and a good connections.</td>\n",
       "      <td>5</td>\n",
       "      <td>2025-06-05</td>\n",
       "      <td>Commercial Bank of Ethiopia</td>\n",
       "      <td>Google Play</td>\n",
       "    </tr>\n",
       "    <tr>\n",
       "      <th>1</th>\n",
       "      <td>2c15634273c8f9922f7a870ce877a8fc</td>\n",
       "      <td>I cannot send to cbebirr app. through this app.</td>\n",
       "      <td>3</td>\n",
       "      <td>2025-06-05</td>\n",
       "      <td>Commercial Bank of Ethiopia</td>\n",
       "      <td>Google Play</td>\n",
       "    </tr>\n",
       "    <tr>\n",
       "      <th>2</th>\n",
       "      <td>e8efe612c2b176fef3efdcf7955e2a9d</td>\n",
       "      <td>not functional</td>\n",
       "      <td>1</td>\n",
       "      <td>2025-06-05</td>\n",
       "      <td>Commercial Bank of Ethiopia</td>\n",
       "      <td>Google Play</td>\n",
       "    </tr>\n",
       "  </tbody>\n",
       "</table>\n",
       "</div>"
      ],
      "text/plain": [
       "                          review_id  \\\n",
       "0  77db45e9bb9e610a42cd16c8560ce6fd   \n",
       "1  2c15634273c8f9922f7a870ce877a8fc   \n",
       "2  e8efe612c2b176fef3efdcf7955e2a9d   \n",
       "\n",
       "                                            review  rating        date  \\\n",
       "0     the app is proactive and a good connections.       5  2025-06-05   \n",
       "1  I cannot send to cbebirr app. through this app.       3  2025-06-05   \n",
       "2                                   not functional       1  2025-06-05   \n",
       "\n",
       "                          bank       source  \n",
       "0  Commercial Bank of Ethiopia  Google Play  \n",
       "1  Commercial Bank of Ethiopia  Google Play  \n",
       "2  Commercial Bank of Ethiopia  Google Play  "
      ]
     },
     "metadata": {},
     "output_type": "display_data"
    },
    {
     "name": "stdout",
     "output_type": "stream",
     "text": [
      "\n",
      "📊 Data Summary:\n",
      "Total reviews: 610\n",
      "\n",
      "Reviews per bank:\n",
      "bank\n",
      "Dashen Bank                    235\n",
      "Bank of Abyssinia              195\n",
      "Commercial Bank of Ethiopia    180\n",
      "Name: count, dtype: int64\n"
     ]
    }
   ],
   "source": [
    "# Combine all bank data\n",
    "if clean_dfs:\n",
    "    combined_df = pd.concat(clean_dfs, ignore_index=True)\n",
    "    print(\"\\nCombined dataset preview:\")\n",
    "    display(combined_df.head(3))\n",
    "    \n",
    "    # Basic stats\n",
    "    print(\"\\n📊 Data Summary:\")\n",
    "    print(f\"Total reviews: {len(combined_df)}\")\n",
    "    print(\"\\nReviews per bank:\")\n",
    "    print(combined_df['bank'].value_counts())"
   ]
  },
  {
   "cell_type": "markdown",
   "id": "125a274f",
   "metadata": {},
   "source": [
    "### 3. Save Processed Data"
   ]
  },
  {
   "cell_type": "code",
   "execution_count": 13,
   "id": "efbb3467",
   "metadata": {},
   "outputs": [
    {
     "name": "stdout",
     "output_type": "stream",
     "text": [
      "Saved 180 reviews to data\\processed\\commercial_bank_of_ethiopia_clean.csv\n",
      "Saved 195 reviews to data\\processed\\bank_of_abyssinia_clean.csv\n",
      "Saved 235 reviews to data\\processed\\dashen_bank_clean.csv\n",
      "\n",
      "Saved combined data to data\\processed\\all_banks_combined.csv\n"
     ]
    }
   ],
   "source": [
    "# Save to files\n",
    "output_dir = Path(\"data/processed\")\n",
    "output_dir.mkdir(parents=True, exist_ok=True)\n",
    "\n",
    "if clean_dfs:\n",
    "    # Save individual bank files\n",
    "    for df in clean_dfs:\n",
    "        bank_name = df['bank'].iloc[0]\n",
    "        filename = output_dir / f\"{bank_name.lower().replace(' ', '_')}_clean.csv\"\n",
    "        df.to_csv(filename, index=False)\n",
    "        print(f\"Saved {len(df)} reviews to {filename}\")\n",
    "    \n",
    "    # Save combined file\n",
    "    combined_path = output_dir / \"all_banks_combined.csv\"\n",
    "    combined_df.to_csv(combined_path, index=False)\n",
    "    print(f\"\\nSaved combined data to {combined_path}\")"
   ]
  },
  {
   "cell_type": "markdown",
   "id": "a93438a0",
   "metadata": {},
   "source": [
    "### 4. Preliminary Analysis"
   ]
  },
  {
   "cell_type": "code",
   "execution_count": 14,
   "id": "fbb98de4",
   "metadata": {},
   "outputs": [
    {
     "data": {
      "image/png": "[encoded data removed]",
      "text/plain": [
       "<Figure size 1000x500 with 1 Axes>"
      ]
     },
     "metadata": {},
     "output_type": "display_data"
    },
    {
     "name": "stderr",
     "output_type": "stream",
     "text": [
      "C:\\Users\\Amdemichael\\AppData\\Local\\Temp\\ipykernel_14200\\2596827804.py:18: FutureWarning: 'M' is deprecated and will be removed in a future version, please use 'ME' instead.\n",
      "  combined_df.set_index('date').resample('M')['review'].count().plot()\n"
     ]
    },
    {
     "data": {
      "image/png": "[encoded data removed]",
      "text/plain": [
       "<Figure size 1200x500 with 1 Axes>"
      ]
     },
     "metadata": {},
     "output_type": "display_data"
    }
   ],
   "source": [
    "if not clean_dfs:\n",
    "    raise ValueError(\"No data available for analysis\")\n",
    "\n",
    "# Rating distribution\n",
    "plt.figure(figsize=(10, 5))\n",
    "combined_df['rating'].value_counts().sort_index().plot(kind='bar', color='skyblue')\n",
    "plt.title('Rating Distribution Across All Banks')\n",
    "plt.xlabel('Star Rating')\n",
    "plt.ylabel('Number of Reviews')\n",
    "plt.xticks(rotation=0)\n",
    "plt.show()\n",
    "\n",
    "# %%\n",
    "# Reviews over time (if date column exists)\n",
    "if 'date' in combined_df.columns:\n",
    "    plt.figure(figsize=(12, 5))\n",
    "    combined_df['date'] = pd.to_datetime(combined_df['date'])\n",
    "    combined_df.set_index('date').resample('M')['review'].count().plot()\n",
    "    plt.title('Reviews Over Time')\n",
    "    plt.ylabel('Number of Reviews')\n",
    "    plt.show()"
   ]
  },
  {
   "cell_type": "markdown",
   "id": "99fb0aad",
   "metadata": {},
   "source": [
    "### 5. Data Quality Check"
   ]
  },
  {
   "cell_type": "code",
   "execution_count": 15,
   "id": "68061c2e",
   "metadata": {},
   "outputs": [
    {
     "name": "stdout",
     "output_type": "stream",
     "text": [
      "Data Quality Report:\n"
     ]
    },
    {
     "data": {
      "application/vnd.microsoft.datawrangler.viewer.v0+json": {
       "columns": [
        {
         "name": "index",
         "rawType": "object",
         "type": "string"
        },
        {
         "name": "count",
         "rawType": "int64",
         "type": "integer"
        }
       ],
       "ref": "e641579e-b7d7-4c2d-9966-64c38c365395",
       "rows": [
        [
         "total_reviews",
         "610"
        ],
        [
         "missing_reviews",
         "0"
        ],
        [
         "missing_ratings",
         "0"
        ],
        [
         "duplicates",
         "4"
        ],
        [
         "short_reviews",
         "0"
        ]
       ],
       "shape": {
        "columns": 1,
        "rows": 5
       }
      },
      "text/html": [
       "<div>\n",
       "<style scoped>\n",
       "    .dataframe tbody tr th:only-of-type {\n",
       "        vertical-align: middle;\n",
       "    }\n",
       "\n",
       "    .dataframe tbody tr th {\n",
       "        vertical-align: top;\n",
       "    }\n",
       "\n",
       "    .dataframe thead th {\n",
       "        text-align: right;\n",
       "    }\n",
       "</style>\n",
       "<table border=\"1\" class=\"dataframe\">\n",
       "  <thead>\n",
       "    <tr style=\"text-align: right;\">\n",
       "      <th></th>\n",
       "      <th>count</th>\n",
       "    </tr>\n",
       "  </thead>\n",
       "  <tbody>\n",
       "    <tr>\n",
       "      <th>total_reviews</th>\n",
       "      <td>610</td>\n",
       "    </tr>\n",
       "    <tr>\n",
       "      <th>missing_reviews</th>\n",
       "      <td>0</td>\n",
       "    </tr>\n",
       "    <tr>\n",
       "      <th>missing_ratings</th>\n",
       "      <td>0</td>\n",
       "    </tr>\n",
       "    <tr>\n",
       "      <th>duplicates</th>\n",
       "      <td>4</td>\n",
       "    </tr>\n",
       "    <tr>\n",
       "      <th>short_reviews</th>\n",
       "      <td>0</td>\n",
       "    </tr>\n",
       "  </tbody>\n",
       "</table>\n",
       "</div>"
      ],
      "text/plain": [
       "                 count\n",
       "total_reviews      610\n",
       "missing_reviews      0\n",
       "missing_ratings      0\n",
       "duplicates           4\n",
       "short_reviews        0"
      ]
     },
     "metadata": {},
     "output_type": "display_data"
    }
   ],
   "source": [
    "def check_data_quality(df):\n",
    "    \"\"\"Generate data quality report\"\"\"\n",
    "    report = {\n",
    "        \"total_reviews\": len(df),\n",
    "        \"missing_reviews\": df['review'].isna().sum(),\n",
    "        \"missing_ratings\": df['rating'].isna().sum(),\n",
    "        \"duplicates\": df.duplicated(subset=['review', 'bank']).sum(),\n",
    "        \"short_reviews\": (df['review'].str.len() < 10).sum()\n",
    "    }\n",
    "    return pd.DataFrame.from_dict(report, orient='index', columns=['count'])\n",
    "\n",
    "if not clean_dfs:\n",
    "    print(\"No data available for quality check\")\n",
    "else:\n",
    "    print(\"Data Quality Report:\")\n",
    "    display(check_data_quality(combined_df))"
   ]
  },
  {
   "cell_type": "code",
   "execution_count": null,
   "id": "11ce1f49",
   "metadata": {},
   "outputs": [],
   "source": []
  }
 ],
 "metadata": {
  "kernelspec": {
   "display_name": "bank-app-reviews-analysis",
   "language": "python",
   "name": "python3"
  },
  "language_info": {
   "codemirror_mode": {
    "name": "ipython",
    "version": 3
   },
   "file_extension": ".py",
   "mimetype": "text/x-python",
   "name": "python",
   "nbconvert_exporter": "python",
   "pygments_lexer": "ipython3",
   "version": "3.11.0"
  }
 },
 "nbformat": 4,
 "nbformat_minor": 5
}
